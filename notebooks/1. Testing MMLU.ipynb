{
 "cells": [
  {
   "cell_type": "code",
   "execution_count": 20,
   "id": "1631adb0-6174-4935-8f60-459b028a86a5",
   "metadata": {
    "tags": []
   },
   "outputs": [],
   "source": [
    "# ! pip install --upgrade --quiet  langchain-google-genai"
   ]
  },
  {
   "cell_type": "code",
   "execution_count": 1,
   "id": "1084953f-ff70-4c2f-bf5b-e94153e4162c",
   "metadata": {},
   "outputs": [],
   "source": [
    "import pandas as pd\n",
    "import os\n",
    "from datasets import load_dataset\n",
    "from langchain_google_genai import GoogleGenerativeAI\n",
    "from langchain_core.prompts import PromptTemplate\n",
    "from dotenv import load_dotenv\n",
    "from tqdm import tqdm\n",
    "from ast import literal_eval"
   ]
  },
  {
   "cell_type": "code",
   "execution_count": 2,
   "id": "b5adf9b8-53e5-4614-b6f4-770e39f7103e",
   "metadata": {
    "tags": []
   },
   "outputs": [],
   "source": [
    "dataset = load_dataset(\"cais/mmlu\", \"sociology\")"
   ]
  },
  {
   "cell_type": "code",
   "execution_count": 3,
   "id": "24dda372-e19d-4aee-8058-3ff7b38054f1",
   "metadata": {
    "tags": []
   },
   "outputs": [],
   "source": [
    "load_dotenv('../.env')\n",
    "\n",
    "GOOGLE_API_KEY = os.getenv(\"GOOGLE_API_KEY\")"
   ]
  },
  {
   "cell_type": "code",
   "execution_count": 4,
   "id": "ae06e693-4b09-45c8-8f67-7619402e40d9",
   "metadata": {
    "tags": []
   },
   "outputs": [],
   "source": [
    "llm = GoogleGenerativeAI(model=\"gemini-pro\", google_api_key=GOOGLE_API_KEY)"
   ]
  },
  {
   "cell_type": "code",
   "execution_count": 5,
   "id": "c6d6adf5-ff75-462a-80d8-758fcdba2a5b",
   "metadata": {
    "tags": []
   },
   "outputs": [
    {
     "name": "stdout",
     "output_type": "stream",
     "text": [
      "```json\n",
      "{\n",
      "  \"validity\": \"Valid\",\n",
      "  \"explanation\": \"Mass-society theory is a sociological theory that suggests that the mass media have a powerful influence on society, and that this influence can be negative. The theory posits that the mass media can manipulate 'the masses' as vulnerable, passive consumers, and that this can lead to social problems such as crime, violence, and political extremism.\"\n",
      "}\n",
      "```\n"
     ]
    }
   ],
   "source": [
    "template = \"\"\"\n",
    "Imagine you are expert in sociology, given the following question from the topic of sociology.\n",
    "Go through it thoroughly and tell whether it is a valid question or not.\n",
    "\n",
    "Question: {question}\n",
    "Options: {options}\n",
    "\n",
    "Convey your opinion by saying \"Valid\" or \"Invalid\", and add a small explanation if you deem necessary. \n",
    "Return this in a json format with the keys \"validity\" and \"explanation\" \"\"\"\n",
    "prompt = PromptTemplate.from_template(template)\n",
    "\n",
    "chain = prompt | llm\n",
    "\n",
    "\n",
    "print(chain.invoke({\"question\": dataset['test'][0]['question'], \n",
    "                    \"options\":dataset['test'][0]['choices']\n",
    "                   }))"
   ]
  },
  {
   "cell_type": "markdown",
   "id": "1cb6a065-f637-4374-98ba-dc3a6001bd8a",
   "metadata": {},
   "source": [
    "## 1.1 Creating the loop to check for validity in one topic of MMLU"
   ]
  },
  {
   "cell_type": "code",
   "execution_count": 6,
   "id": "ce714545-502c-49a5-9f6e-8e7d058b4314",
   "metadata": {
    "tags": []
   },
   "outputs": [
    {
     "name": "stderr",
     "output_type": "stream",
     "text": [
      "100%|██████████████████████████████████████████████████████████████████████████████████████████████████████████████████████████████████████████████████| 201/201 [07:05<00:00,  2.12s/it]\n"
     ]
    }
   ],
   "source": [
    "count = dataset['test'].shape[0]\n",
    "validities = []\n",
    "for i in tqdm(range(count)):\n",
    "    valid = chain.invoke({\"question\": dataset['test'][i]['question'], \n",
    "                    \"options\":dataset['test'][i]['choices']\n",
    "                   })\n",
    "    validities.append(valid)"
   ]
  },
  {
   "cell_type": "code",
   "execution_count": 7,
   "id": "954cb13c-2e84-40ec-9f67-234b8a041e17",
   "metadata": {
    "tags": []
   },
   "outputs": [],
   "source": [
    "import re\n",
    "\n",
    "def replace_inner_double_quotes(text):\n",
    "    # Find the index of \"explanation:\" in the text\n",
    "    explanation_index = text.find('\"explanation\":')\n",
    "\n",
    "    # If \"explanation:\" is not found, return the original text\n",
    "    if explanation_index == -1:\n",
    "        return text\n",
    "\n",
    "    # Extract the text after \"explanation:\"\n",
    "    explanation_text = text[explanation_index + len('\"explanation\":'):]\n",
    "\n",
    "    # Find the indices of the first and last double quotes in the explanation text\n",
    "    start_quote_index = explanation_text.find('\"')\n",
    "    end_quote_index = explanation_text.rfind('\"')\n",
    "\n",
    "    # If no double quotes are found, return the original text\n",
    "    if start_quote_index == -1 or end_quote_index == -1:\n",
    "        return text\n",
    "\n",
    "    # Extract the inner explanation text\n",
    "    inner_explanation_text = explanation_text[start_quote_index + 1:end_quote_index]\n",
    "\n",
    "    # Replace double quotes with escaped single quotes in the inner explanation text\n",
    "    modified_inner_explanation_text = re.sub(r'\"', r\"\\'\", inner_explanation_text)\n",
    "\n",
    "    # Replace the original inner explanation text with the modified one\n",
    "    modified_text = text[:explanation_index + len('\"explanation\":') + start_quote_index + 1] + modified_inner_explanation_text + text[explanation_index + len(\"explanation:\") + end_quote_index:]\n",
    "\n",
    "    return modified_text"
   ]
  },
  {
   "cell_type": "code",
   "execution_count": 8,
   "id": "d0dfbe50-6bfe-4881-ad1d-c3576c966432",
   "metadata": {
    "tags": []
   },
   "outputs": [],
   "source": [
    "def get_dict_from_json(snippet):\n",
    "    if snippet == '': return {}\n",
    "    if 'json' in snippet:\n",
    "        text = snippet.split('```json')[1][:-3]\n",
    "    elif '```' in snippet:\n",
    "        text = snippet.split('```')[1]\n",
    "    else:\n",
    "        text = snippet\n",
    "        \n",
    "    # Handling edge case of different JSON generation    \n",
    "    if '\"isValid\": true' in text:\n",
    "        text = text.replace('\"isValid\": true','\"validity\": \"Valid\"')\n",
    "        \n",
    "    elif '\"isValid\": false' in text:\n",
    "        text = text.replace('\"isValid\": false','\"validity\": \"Invalid\"')\n",
    "        \n",
    "    clean_text = text.replace('\\n','')\n",
    "    clean_text = replace_inner_double_quotes(clean_text)\n",
    "    \n",
    "    return literal_eval(clean_text)"
   ]
  },
  {
   "cell_type": "code",
   "execution_count": 9,
   "id": "2aec2f8a-bd97-4da8-86a5-11debe155be4",
   "metadata": {
    "tags": []
   },
   "outputs": [],
   "source": [
    "valids_for_df = [get_dict_from_json(x) for x in validities]"
   ]
  },
  {
   "cell_type": "code",
   "execution_count": 129,
   "id": "e014fa45-ad1c-4253-8c29-557c936b5341",
   "metadata": {
    "tags": []
   },
   "outputs": [],
   "source": [
    "# valid_df = pd.DataFrame(valids_for_df)[['validity','Validity','valid','question_validity','explanation','reason','Explanation']]"
   ]
  },
  {
   "cell_type": "code",
   "execution_count": 130,
   "id": "3313f5bc-35da-41a6-b332-987073ee5fcf",
   "metadata": {
    "tags": []
   },
   "outputs": [],
   "source": [
    "# valid_df"
   ]
  },
  {
   "cell_type": "code",
   "execution_count": 122,
   "id": "9476b0d5-5ab3-404c-9dd2-71f92a83f3df",
   "metadata": {
    "tags": []
   },
   "outputs": [],
   "source": [
    "valid_df['val'] = valid_df['validity'].astype(str) + valid_df['valid'].astype(str) + valid_df['Validity'].astype(str) + valid_df['question_validity'].astype(str)"
   ]
  },
  {
   "cell_type": "code",
   "execution_count": 123,
   "id": "556d4f97-4030-4071-b0c2-c2241e0b2da1",
   "metadata": {
    "tags": []
   },
   "outputs": [],
   "source": [
    "valid_df['val'] = valid_df['val'].apply(lambda x: x.replace('nan',''))"
   ]
  },
  {
   "cell_type": "code",
   "execution_count": 125,
   "id": "a6a068b6-ca19-47f4-bf7b-4ba73338f2ff",
   "metadata": {
    "tags": []
   },
   "outputs": [],
   "source": [
    "clean_valid_df = valid_df[['val','explanation']]"
   ]
  },
  {
   "cell_type": "code",
   "execution_count": 127,
   "id": "564c01fd-e8c6-42cd-b451-346cd695ef0f",
   "metadata": {
    "tags": []
   },
   "outputs": [
    {
     "data": {
      "text/html": [
       "<div>\n",
       "<style scoped>\n",
       "    .dataframe tbody tr th:only-of-type {\n",
       "        vertical-align: middle;\n",
       "    }\n",
       "\n",
       "    .dataframe tbody tr th {\n",
       "        vertical-align: top;\n",
       "    }\n",
       "\n",
       "    .dataframe thead th {\n",
       "        text-align: right;\n",
       "    }\n",
       "</style>\n",
       "<table border=\"1\" class=\"dataframe\">\n",
       "  <thead>\n",
       "    <tr style=\"text-align: right;\">\n",
       "      <th></th>\n",
       "      <th>val</th>\n",
       "      <th>explanation</th>\n",
       "    </tr>\n",
       "  </thead>\n",
       "  <tbody>\n",
       "    <tr>\n",
       "      <th>20</th>\n",
       "      <td>Invalid</td>\n",
       "      <td>NaN</td>\n",
       "    </tr>\n",
       "    <tr>\n",
       "      <th>142</th>\n",
       "      <td>Invalid</td>\n",
       "      <td>The question is invalid because it assumes tha...</td>\n",
       "    </tr>\n",
       "    <tr>\n",
       "      <th>150</th>\n",
       "      <td>Invalid</td>\n",
       "      <td>Triangulation is a research method, not a purp...</td>\n",
       "    </tr>\n",
       "    <tr>\n",
       "      <th>200</th>\n",
       "      <td>Invalid</td>\n",
       "      <td>Domhoff did not identify the exploitation proc...</td>\n",
       "    </tr>\n",
       "  </tbody>\n",
       "</table>\n",
       "</div>"
      ],
      "text/plain": [
       "         val                                        explanation\n",
       "20   Invalid                                                NaN\n",
       "142  Invalid  The question is invalid because it assumes tha...\n",
       "150  Invalid  Triangulation is a research method, not a purp...\n",
       "200  Invalid  Domhoff did not identify the exploitation proc..."
      ]
     },
     "execution_count": 127,
     "metadata": {},
     "output_type": "execute_result"
    }
   ],
   "source": [
    "clean_valid_df[clean_valid_df.val == 'Invalid']"
   ]
  },
  {
   "cell_type": "code",
   "execution_count": 10,
   "id": "f5de2717-ae32-42f2-ab5d-25f5941f56d1",
   "metadata": {
    "tags": []
   },
   "outputs": [],
   "source": [
    "val_df =  pd.DataFrame(valids_for_df)"
   ]
  },
  {
   "cell_type": "code",
   "execution_count": 14,
   "id": "f0e20cf9-22a8-4c08-b04d-fc4392366d59",
   "metadata": {
    "tags": []
   },
   "outputs": [
    {
     "data": {
      "text/html": [
       "<div>\n",
       "<style scoped>\n",
       "    .dataframe tbody tr th:only-of-type {\n",
       "        vertical-align: middle;\n",
       "    }\n",
       "\n",
       "    .dataframe tbody tr th {\n",
       "        vertical-align: top;\n",
       "    }\n",
       "\n",
       "    .dataframe thead th {\n",
       "        text-align: right;\n",
       "    }\n",
       "</style>\n",
       "<table border=\"1\" class=\"dataframe\">\n",
       "  <thead>\n",
       "    <tr style=\"text-align: right;\">\n",
       "      <th></th>\n",
       "      <th>validity</th>\n",
       "      <th>explanation</th>\n",
       "    </tr>\n",
       "  </thead>\n",
       "  <tbody>\n",
       "    <tr>\n",
       "      <th>142</th>\n",
       "      <td>Invalid</td>\n",
       "      <td>The question is invalid because it presents a ...</td>\n",
       "    </tr>\n",
       "    <tr>\n",
       "      <th>150</th>\n",
       "      <td>Invalid</td>\n",
       "      <td>Triangulation is not a research purpose. It is...</td>\n",
       "    </tr>\n",
       "    <tr>\n",
       "      <th>160</th>\n",
       "      <td>Invalid</td>\n",
       "      <td>The question is invalid because 'buying fewer ...</td>\n",
       "    </tr>\n",
       "  </tbody>\n",
       "</table>\n",
       "</div>"
      ],
      "text/plain": [
       "    validity                                        explanation\n",
       "142  Invalid  The question is invalid because it presents a ...\n",
       "150  Invalid  Triangulation is not a research purpose. It is...\n",
       "160  Invalid  The question is invalid because 'buying fewer ..."
      ]
     },
     "execution_count": 14,
     "metadata": {},
     "output_type": "execute_result"
    }
   ],
   "source": [
    "val_df[val_df.validity == 'Invalid']"
   ]
  },
  {
   "cell_type": "code",
   "execution_count": 25,
   "id": "5538b1e7-27ea-451f-be26-1b34c7921c02",
   "metadata": {
    "tags": []
   },
   "outputs": [
    {
     "data": {
      "text/plain": [
       "'Triangulation is not a research purpose. It is a research method that involves the use of multiple data sources and methods to enhance the validity and reliability of research findings.s.'"
      ]
     },
     "execution_count": 25,
     "metadata": {},
     "output_type": "execute_result"
    }
   ],
   "source": [
    "val_df.iloc[150].explanation"
   ]
  },
  {
   "cell_type": "code",
   "execution_count": 26,
   "id": "11f6d2ed-f0fa-4e90-a601-220149f1a310",
   "metadata": {
    "tags": []
   },
   "outputs": [
    {
     "data": {
      "text/plain": [
       "{'question': \"Which of the following is not a 'research purpose'?\",\n",
       " 'subject': 'sociology',\n",
       " 'choices': ['triangulation', 'explanation', 'description', 'exploration'],\n",
       " 'answer': 0}"
      ]
     },
     "execution_count": 26,
     "metadata": {},
     "output_type": "execute_result"
    }
   ],
   "source": [
    "dataset['test'][150]"
   ]
  },
  {
   "cell_type": "code",
   "execution_count": null,
   "id": "13ccd3bf-8dad-4518-a379-33ed1f5b57f6",
   "metadata": {},
   "outputs": [],
   "source": []
  }
 ],
 "metadata": {
  "kernelspec": {
   "display_name": "Python 3 (ipykernel)",
   "language": "python",
   "name": "python3"
  },
  "language_info": {
   "codemirror_mode": {
    "name": "ipython",
    "version": 3
   },
   "file_extension": ".py",
   "mimetype": "text/x-python",
   "name": "python",
   "nbconvert_exporter": "python",
   "pygments_lexer": "ipython3",
   "version": "3.9.16"
  }
 },
 "nbformat": 4,
 "nbformat_minor": 5
}
